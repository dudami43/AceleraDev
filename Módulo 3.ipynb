{
 "cells": [
  {
   "cell_type": "code",
   "execution_count": 1,
   "metadata": {},
   "outputs": [],
   "source": [
    "import pandas as pd\n",
    "import numpy as np"
   ]
  },
  {
   "cell_type": "code",
   "execution_count": 2,
   "metadata": {},
   "outputs": [],
   "source": [
    "df = pd.read_csv(\"desafio1.csv\", index_col=1)"
   ]
  },
  {
   "cell_type": "code",
   "execution_count": 3,
   "metadata": {},
   "outputs": [],
   "source": [
    "df.drop(columns=[\"RowNumber\"], inplace=True)"
   ]
  },
  {
   "cell_type": "code",
   "execution_count": 4,
   "metadata": {},
   "outputs": [
    {
     "data": {
      "text/html": [
       "<div>\n",
       "<style scoped>\n",
       "    .dataframe tbody tr th:only-of-type {\n",
       "        vertical-align: middle;\n",
       "    }\n",
       "\n",
       "    .dataframe tbody tr th {\n",
       "        vertical-align: top;\n",
       "    }\n",
       "\n",
       "    .dataframe thead th {\n",
       "        text-align: right;\n",
       "    }\n",
       "</style>\n",
       "<table border=\"1\" class=\"dataframe\">\n",
       "  <thead>\n",
       "    <tr style=\"text-align: right;\">\n",
       "      <th></th>\n",
       "      <th>sobrenome</th>\n",
       "      <th>pontuacao_credito</th>\n",
       "      <th>estado_residencia</th>\n",
       "      <th>genero</th>\n",
       "      <th>idade</th>\n",
       "      <th>nivel_estabilidade</th>\n",
       "      <th>saldo_conta</th>\n",
       "      <th>numero_produtos</th>\n",
       "      <th>possui_cartao_de_credito</th>\n",
       "      <th>membro_ativo</th>\n",
       "    </tr>\n",
       "    <tr>\n",
       "      <th>id</th>\n",
       "      <th></th>\n",
       "      <th></th>\n",
       "      <th></th>\n",
       "      <th></th>\n",
       "      <th></th>\n",
       "      <th></th>\n",
       "      <th></th>\n",
       "      <th></th>\n",
       "      <th></th>\n",
       "      <th></th>\n",
       "    </tr>\n",
       "  </thead>\n",
       "  <tbody>\n",
       "    <tr>\n",
       "      <th>e7f44fcbd380d4cef7e6c232cc7e37895c3fd197</th>\n",
       "      <td>6d6e0aa1b9b413e442e2fb68df14b4fc3f91de50</td>\n",
       "      <td>619</td>\n",
       "      <td>SC</td>\n",
       "      <td>F</td>\n",
       "      <td>42</td>\n",
       "      <td>2</td>\n",
       "      <td>0.00</td>\n",
       "      <td>1</td>\n",
       "      <td>1</td>\n",
       "      <td>1</td>\n",
       "    </tr>\n",
       "    <tr>\n",
       "      <th>28dcb083ad90512da16b9430085c2cddb8ca5e12</th>\n",
       "      <td>48e1ad846796fa314f1b4a6702b83343eb5482c5</td>\n",
       "      <td>608</td>\n",
       "      <td>RS</td>\n",
       "      <td>F</td>\n",
       "      <td>41</td>\n",
       "      <td>1</td>\n",
       "      <td>83807.86</td>\n",
       "      <td>1</td>\n",
       "      <td>0</td>\n",
       "      <td>1</td>\n",
       "    </tr>\n",
       "    <tr>\n",
       "      <th>774bc378f787438c9c7594e536787d07a097a54b</th>\n",
       "      <td>f2b29d5d934de615812b697132e767dea0f1e9e2</td>\n",
       "      <td>502</td>\n",
       "      <td>SC</td>\n",
       "      <td>F</td>\n",
       "      <td>42</td>\n",
       "      <td>8</td>\n",
       "      <td>159660.80</td>\n",
       "      <td>3</td>\n",
       "      <td>1</td>\n",
       "      <td>0</td>\n",
       "    </tr>\n",
       "    <tr>\n",
       "      <th>043a71326f7096de155e7f0c559dc62b5e4b7239</th>\n",
       "      <td>85d5c9da7cddd8109ad32a6c348fe2bb10bf99f2</td>\n",
       "      <td>699</td>\n",
       "      <td>SC</td>\n",
       "      <td>F</td>\n",
       "      <td>39</td>\n",
       "      <td>1</td>\n",
       "      <td>0.00</td>\n",
       "      <td>2</td>\n",
       "      <td>0</td>\n",
       "      <td>0</td>\n",
       "    </tr>\n",
       "    <tr>\n",
       "      <th>37b3bb8ca243955fb3605ec7e1c2a4607cdb3b22</th>\n",
       "      <td>ddc89c837a6933639de75f28171057060bd322df</td>\n",
       "      <td>850</td>\n",
       "      <td>RS</td>\n",
       "      <td>F</td>\n",
       "      <td>43</td>\n",
       "      <td>2</td>\n",
       "      <td>125510.82</td>\n",
       "      <td>1</td>\n",
       "      <td>1</td>\n",
       "      <td>1</td>\n",
       "    </tr>\n",
       "  </tbody>\n",
       "</table>\n",
       "</div>"
      ],
      "text/plain": [
       "                                                                         sobrenome  \\\n",
       "id                                                                                   \n",
       "e7f44fcbd380d4cef7e6c232cc7e37895c3fd197  6d6e0aa1b9b413e442e2fb68df14b4fc3f91de50   \n",
       "28dcb083ad90512da16b9430085c2cddb8ca5e12  48e1ad846796fa314f1b4a6702b83343eb5482c5   \n",
       "774bc378f787438c9c7594e536787d07a097a54b  f2b29d5d934de615812b697132e767dea0f1e9e2   \n",
       "043a71326f7096de155e7f0c559dc62b5e4b7239  85d5c9da7cddd8109ad32a6c348fe2bb10bf99f2   \n",
       "37b3bb8ca243955fb3605ec7e1c2a4607cdb3b22  ddc89c837a6933639de75f28171057060bd322df   \n",
       "\n",
       "                                          pontuacao_credito estado_residencia  \\\n",
       "id                                                                              \n",
       "e7f44fcbd380d4cef7e6c232cc7e37895c3fd197                619                SC   \n",
       "28dcb083ad90512da16b9430085c2cddb8ca5e12                608                RS   \n",
       "774bc378f787438c9c7594e536787d07a097a54b                502                SC   \n",
       "043a71326f7096de155e7f0c559dc62b5e4b7239                699                SC   \n",
       "37b3bb8ca243955fb3605ec7e1c2a4607cdb3b22                850                RS   \n",
       "\n",
       "                                         genero  idade  nivel_estabilidade  \\\n",
       "id                                                                           \n",
       "e7f44fcbd380d4cef7e6c232cc7e37895c3fd197      F     42                   2   \n",
       "28dcb083ad90512da16b9430085c2cddb8ca5e12      F     41                   1   \n",
       "774bc378f787438c9c7594e536787d07a097a54b      F     42                   8   \n",
       "043a71326f7096de155e7f0c559dc62b5e4b7239      F     39                   1   \n",
       "37b3bb8ca243955fb3605ec7e1c2a4607cdb3b22      F     43                   2   \n",
       "\n",
       "                                          saldo_conta  numero_produtos  \\\n",
       "id                                                                       \n",
       "e7f44fcbd380d4cef7e6c232cc7e37895c3fd197         0.00                1   \n",
       "28dcb083ad90512da16b9430085c2cddb8ca5e12     83807.86                1   \n",
       "774bc378f787438c9c7594e536787d07a097a54b    159660.80                3   \n",
       "043a71326f7096de155e7f0c559dc62b5e4b7239         0.00                2   \n",
       "37b3bb8ca243955fb3605ec7e1c2a4607cdb3b22    125510.82                1   \n",
       "\n",
       "                                          possui_cartao_de_credito  \\\n",
       "id                                                                   \n",
       "e7f44fcbd380d4cef7e6c232cc7e37895c3fd197                         1   \n",
       "28dcb083ad90512da16b9430085c2cddb8ca5e12                         0   \n",
       "774bc378f787438c9c7594e536787d07a097a54b                         1   \n",
       "043a71326f7096de155e7f0c559dc62b5e4b7239                         0   \n",
       "37b3bb8ca243955fb3605ec7e1c2a4607cdb3b22                         1   \n",
       "\n",
       "                                          membro_ativo  \n",
       "id                                                      \n",
       "e7f44fcbd380d4cef7e6c232cc7e37895c3fd197             1  \n",
       "28dcb083ad90512da16b9430085c2cddb8ca5e12             1  \n",
       "774bc378f787438c9c7594e536787d07a097a54b             0  \n",
       "043a71326f7096de155e7f0c559dc62b5e4b7239             0  \n",
       "37b3bb8ca243955fb3605ec7e1c2a4607cdb3b22             1  "
      ]
     },
     "execution_count": 4,
     "metadata": {},
     "output_type": "execute_result"
    }
   ],
   "source": [
    "df.head()"
   ]
  },
  {
   "cell_type": "code",
   "execution_count": 5,
   "metadata": {},
   "outputs": [],
   "source": [
    "mean = df.groupby(['estado_residencia']).mean()['pontuacao_credito'].rename(\"media\")"
   ]
  },
  {
   "cell_type": "code",
   "execution_count": 6,
   "metadata": {},
   "outputs": [],
   "source": [
    "median = df.groupby(['estado_residencia']).median()['pontuacao_credito'].rename(\"mediana\")"
   ]
  },
  {
   "cell_type": "code",
   "execution_count": 7,
   "metadata": {},
   "outputs": [],
   "source": [
    "mode = df.groupby(['estado_residencia']).apply(lambda x: x.mode().iloc[0])['pontuacao_credito'].rename(\"moda\")"
   ]
  },
  {
   "cell_type": "code",
   "execution_count": 12,
   "metadata": {},
   "outputs": [],
   "source": [
    "std = df.groupby(['estado_residencia']).std()['pontuacao_credito'].rename(\"desvio_padrao\")"
   ]
  },
  {
   "cell_type": "code",
   "execution_count": 14,
   "metadata": {},
   "outputs": [],
   "source": [
    "pd.concat([mode, median, mean, std], axis=1).to_json(r'submission.json', orient='index')"
   ]
  },
  {
   "cell_type": "code",
   "execution_count": 11,
   "metadata": {},
   "outputs": [
    {
     "data": {
      "text/html": [
       "<div>\n",
       "<style scoped>\n",
       "    .dataframe tbody tr th:only-of-type {\n",
       "        vertical-align: middle;\n",
       "    }\n",
       "\n",
       "    .dataframe tbody tr th {\n",
       "        vertical-align: top;\n",
       "    }\n",
       "\n",
       "    .dataframe thead th {\n",
       "        text-align: right;\n",
       "    }\n",
       "</style>\n",
       "<table border=\"1\" class=\"dataframe\">\n",
       "  <thead>\n",
       "    <tr style=\"text-align: right;\">\n",
       "      <th></th>\n",
       "      <th>moda</th>\n",
       "      <th>mediana</th>\n",
       "      <th>media</th>\n",
       "      <th>std</th>\n",
       "    </tr>\n",
       "    <tr>\n",
       "      <th>estado_residencia</th>\n",
       "      <th></th>\n",
       "      <th></th>\n",
       "      <th></th>\n",
       "      <th></th>\n",
       "    </tr>\n",
       "  </thead>\n",
       "  <tbody>\n",
       "    <tr>\n",
       "      <th>PR</th>\n",
       "      <td>850.0</td>\n",
       "      <td>650</td>\n",
       "      <td>648.961294</td>\n",
       "      <td>98.607186</td>\n",
       "    </tr>\n",
       "    <tr>\n",
       "      <th>RS</th>\n",
       "      <td>850.0</td>\n",
       "      <td>650</td>\n",
       "      <td>651.105143</td>\n",
       "      <td>95.136598</td>\n",
       "    </tr>\n",
       "    <tr>\n",
       "      <th>SC</th>\n",
       "      <td>850.0</td>\n",
       "      <td>653</td>\n",
       "      <td>649.537653</td>\n",
       "      <td>97.233493</td>\n",
       "    </tr>\n",
       "  </tbody>\n",
       "</table>\n",
       "</div>"
      ],
      "text/plain": [
       "                    moda  mediana       media        std\n",
       "estado_residencia                                       \n",
       "PR                 850.0      650  648.961294  98.607186\n",
       "RS                 850.0      650  651.105143  95.136598\n",
       "SC                 850.0      653  649.537653  97.233493"
      ]
     },
     "execution_count": 11,
     "metadata": {},
     "output_type": "execute_result"
    }
   ],
   "source": [
    "pd.concat([mode, median, mean, std], axis=1)"
   ]
  }
 ],
 "metadata": {
  "kernelspec": {
   "display_name": "Python 3",
   "language": "python",
   "name": "python3"
  },
  "language_info": {
   "codemirror_mode": {
    "name": "ipython",
    "version": 3
   },
   "file_extension": ".py",
   "mimetype": "text/x-python",
   "name": "python",
   "nbconvert_exporter": "python",
   "pygments_lexer": "ipython3",
   "version": "3.7.5"
  }
 },
 "nbformat": 4,
 "nbformat_minor": 2
}
